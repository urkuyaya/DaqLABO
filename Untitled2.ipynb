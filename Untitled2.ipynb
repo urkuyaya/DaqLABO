{
 "cells": [
  {
   "cell_type": "code",
   "execution_count": 1,
   "id": "9b9f975b-3233-499a-94e8-6cfc3de13484",
   "metadata": {},
   "outputs": [
    {
     "data": {
      "text/plain": [
       "0.027336432825302293"
      ]
     },
     "execution_count": 1,
     "metadata": {},
     "output_type": "execute_result"
    }
   ],
   "source": [
    "import random\n",
    "result = random.uniform(0, 10)\n",
    "result\n"
   ]
  }
 ],
 "metadata": {
  "kernelspec": {
   "display_name": "Python 3 (ipykernel)",
   "language": "python",
   "name": "python3"
  },
  "language_info": {
   "codemirror_mode": {
    "name": "ipython",
    "version": 3
   },
   "file_extension": ".py",
   "mimetype": "text/x-python",
   "name": "python",
   "nbconvert_exporter": "python",
   "pygments_lexer": "ipython3",
   "version": "3.13.1"
  }
 },
 "nbformat": 4,
 "nbformat_minor": 5
}
