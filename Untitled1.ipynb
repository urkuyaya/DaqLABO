{
 "cells": [
  {
   "cell_type": "code",
   "execution_count": 2,
   "id": "805b1fb5-a6c2-4c6f-b9f6-ec730d6ab184",
   "metadata": {},
   "outputs": [
    {
     "name": "stdout",
     "output_type": "stream",
     "text": [
      "Error al listar dispositivos: Could not find an installation of NI-DAQmx. Please ensure that NI-DAQmx is installed on this machine or contact National Instruments for support.\n"
     ]
    }
   ],
   "source": [
    "from nidaqmx.system import System\n",
    "\n",
    "# Crear una instancia del sistema DAQmx y listar dispositivos\n",
    "try:\n",
    "    dispositivos = [device.name for device in System.local().devices]\n",
    "    if dispositivos:\n",
    "        print(\"Dispositivos conectados:\", dispositivos)\n",
    "    else:\n",
    "        print(\"No se detectaron dispositivos conectados.\")\n",
    "except Exception as e:\n",
    "    print(f\"Error al listar dispositivos: {e}\")\n"
   ]
  },
  {
   "cell_type": "code",
   "execution_count": 3,
   "id": "168fe9be-f993-49ab-b315-a1a128a63c62",
   "metadata": {},
   "outputs": [
    {
     "name": "stdout",
     "output_type": "stream",
     "text": [
      "Requirement already satisfied: nidaqmx in /home/signalview/mambaforge/envs/jupyterlab-ext/lib/python3.13/site-packages (1.0.2)\n",
      "Requirement already satisfied: click>=8.0.0 in /home/signalview/mambaforge/envs/jupyterlab-ext/lib/python3.13/site-packages (from nidaqmx) (8.1.7)\n",
      "Requirement already satisfied: deprecation>=2.1 in /home/signalview/mambaforge/envs/jupyterlab-ext/lib/python3.13/site-packages (from nidaqmx) (2.1.0)\n",
      "Requirement already satisfied: distro>=1.9.0 in /home/signalview/mambaforge/envs/jupyterlab-ext/lib/python3.13/site-packages (from nidaqmx) (1.9.0)\n",
      "Requirement already satisfied: hightime<0.3.0,>=0.2.2 in /home/signalview/mambaforge/envs/jupyterlab-ext/lib/python3.13/site-packages (from nidaqmx) (0.2.2)\n",
      "Requirement already satisfied: numpy>=2.1 in /home/signalview/mambaforge/envs/jupyterlab-ext/lib/python3.13/site-packages (from nidaqmx) (2.2.0)\n",
      "Requirement already satisfied: python-decouple>=3.8 in /home/signalview/mambaforge/envs/jupyterlab-ext/lib/python3.13/site-packages (from nidaqmx) (3.8)\n",
      "Requirement already satisfied: requests>=2.25.0 in /home/signalview/mambaforge/envs/jupyterlab-ext/lib/python3.13/site-packages (from nidaqmx) (2.32.3)\n",
      "Requirement already satisfied: tzlocal<6.0,>=5.0 in /home/signalview/mambaforge/envs/jupyterlab-ext/lib/python3.13/site-packages (from nidaqmx) (5.2)\n",
      "Requirement already satisfied: packaging in /home/signalview/mambaforge/envs/jupyterlab-ext/lib/python3.13/site-packages (from deprecation>=2.1->nidaqmx) (24.2)\n",
      "Requirement already satisfied: charset_normalizer<4,>=2 in /home/signalview/mambaforge/envs/jupyterlab-ext/lib/python3.13/site-packages (from requests>=2.25.0->nidaqmx) (3.4.0)\n",
      "Requirement already satisfied: idna<4,>=2.5 in /home/signalview/mambaforge/envs/jupyterlab-ext/lib/python3.13/site-packages (from requests>=2.25.0->nidaqmx) (3.10)\n",
      "Requirement already satisfied: urllib3<3,>=1.21.1 in /home/signalview/mambaforge/envs/jupyterlab-ext/lib/python3.13/site-packages (from requests>=2.25.0->nidaqmx) (2.2.3)\n",
      "Requirement already satisfied: certifi>=2017.4.17 in /home/signalview/mambaforge/envs/jupyterlab-ext/lib/python3.13/site-packages (from requests>=2.25.0->nidaqmx) (2024.8.30)\n",
      "Note: you may need to restart the kernel to use updated packages.\n"
     ]
    }
   ],
   "source": [
    "pip install nidaqmx\n"
   ]
  },
  {
   "cell_type": "code",
   "execution_count": 4,
   "id": "06b5dd8a-c45c-49ea-83aa-db70eaabbc02",
   "metadata": {},
   "outputs": [
    {
     "name": "stdout",
     "output_type": "stream",
     "text": [
      "Error al listar dispositivos: Could not find an installation of NI-DAQmx. Please ensure that NI-DAQmx is installed on this machine or contact National Instruments for support.\n"
     ]
    }
   ],
   "source": [
    "# Asegúrate de tener instalada la librería nidaqmx:\n",
    "# pip install nidaqmx\n",
    "\n",
    "from nidaqmx.system import System\n",
    "\n",
    "# Listar dispositivos conectados\n",
    "try:\n",
    "    dispositivos = [device.name for device in System.local().devices]\n",
    "    if dispositivos:\n",
    "        print(\"Dispositivos conectados:\")\n",
    "        for dispositivo in dispositivos:\n",
    "            print(f\"- {dispositivo}\")\n",
    "    else:\n",
    "        print(\"No se detectaron dispositivos conectados.\")\n",
    "except Exception as e:\n",
    "    print(f\"Error al listar dispositivos: {e}\")\n"
   ]
  },
  {
   "cell_type": "code",
   "execution_count": null,
   "id": "fd8cfc26-4f2a-4ba3-bf38-6f5293715ec1",
   "metadata": {},
   "outputs": [],
   "source": []
  }
 ],
 "metadata": {
  "kernelspec": {
   "display_name": "Python 3 (ipykernel)",
   "language": "python",
   "name": "python3"
  },
  "language_info": {
   "codemirror_mode": {
    "name": "ipython",
    "version": 3
   },
   "file_extension": ".py",
   "mimetype": "text/x-python",
   "name": "python",
   "nbconvert_exporter": "python",
   "pygments_lexer": "ipython3",
   "version": "3.13.1"
  }
 },
 "nbformat": 4,
 "nbformat_minor": 5
}
