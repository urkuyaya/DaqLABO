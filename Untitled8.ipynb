{
 "cells": [
  {
   "cell_type": "code",
   "execution_count": 8,
   "id": "2907b277-13a2-44c7-a9b2-c53182dec96c",
   "metadata": {},
   "outputs": [
    {
     "name": "stdout",
     "output_type": "stream",
     "text": [
      "b''\n"
     ]
    },
    {
     "data": {
      "text/plain": [
       "{'timestamp': 0, 'voltage': 0.0, 'error': 'Invalid JSON format'}"
      ]
     },
     "execution_count": 8,
     "metadata": {},
     "output_type": "execute_result"
    }
   ],
   "source": [
    "import serial\n",
    "import time\n",
    "import json\n",
    "  \n",
    "arduino = serial.Serial(port='/dev/ttyUSB0', baudrate=9600, timeout=1)\n",
    "arduino.write(b'START')\n",
    "\n",
    "  \n",
    "data = arduino.readline()\n",
    "print(data)\n",
    "try:\n",
    "    parsed_data = json.loads(data.decode('utf-8').strip())\n",
    "except json.JSONDecodeError:\n",
    "    parsed_data = {\"timestamp\": 0, \"voltage\": 0.0, \"error\": \"Invalid JSON format\"}\n",
    "parsed_data"
   ]
  },
  {
   "cell_type": "code",
   "execution_count": null,
   "id": "95245968-6709-4409-84f0-6808485f50bf",
   "metadata": {},
   "outputs": [],
   "source": []
  },
  {
   "cell_type": "code",
   "execution_count": 9,
   "id": "18f7f4d4-adde-405b-bb4b-ddaf333d6413",
   "metadata": {},
   "outputs": [
    {
     "name": "stdout",
     "output_type": "stream",
     "text": [
      "b''\n",
      "b'{\"timestamp\":649124,\"voltage\":3.196481}\\r\\n'\n"
     ]
    },
    {
     "data": {
      "text/plain": [
       "{'timestamp': 649124, 'voltage': 3.196481}"
      ]
     },
     "execution_count": 9,
     "metadata": {},
     "output_type": "execute_result"
    }
   ],
   "source": [
    "import serial\n",
    "import time\n",
    "import json\n",
    "\n",
    "# Configurar el puerto serial\n",
    "arduino = serial.Serial(port='/dev/ttyUSB0', baudrate=9600, timeout=1)\n",
    "arduino.write(b'START')\n",
    "\n",
    "# Esperar a que lleguen los datos\n",
    "data = None\n",
    "start_time = time.time()\n",
    "while data is None or data == b'':\n",
    "    if time.time() - start_time > 5:  # Esperar hasta 5 segundos\n",
    "        parsed_data = {\"timestamp\": 0, \"voltage\": 0.0, \"error\": \"Timeout waiting for data\"}\n",
    "        break\n",
    "    data = arduino.readline()\n",
    "    print(data)\n",
    "\n",
    "# Procesar los datos si se recibieron\n",
    "if data and data != b'':\n",
    "    try:\n",
    "        parsed_data = json.loads(data.decode('utf-8').strip())\n",
    "    except json.JSONDecodeError:\n",
    "        parsed_data = {\"timestamp\": 0, \"voltage\": 0.0, \"error\": \"Invalid JSON format\"}\n",
    "else:\n",
    "    parsed_data = {\"timestamp\": 0, \"voltage\": 0.0, \"error\": \"No data received\"}\n",
    "\n",
    "parsed_data"
   ]
  },
  {
   "cell_type": "code",
   "execution_count": null,
   "id": "b88f46a1-4ba5-4db5-b032-30f51964066c",
   "metadata": {},
   "outputs": [],
   "source": []
  },
  {
   "cell_type": "code",
   "execution_count": null,
   "id": "d0452ab6-a33e-44a6-a364-94143bc2447a",
   "metadata": {},
   "outputs": [],
   "source": []
  }
 ],
 "metadata": {
  "kernelspec": {
   "display_name": "Python 3 (ipykernel)",
   "language": "python",
   "name": "python3"
  },
  "language_info": {
   "codemirror_mode": {
    "name": "ipython",
    "version": 3
   },
   "file_extension": ".py",
   "mimetype": "text/x-python",
   "name": "python",
   "nbconvert_exporter": "python",
   "pygments_lexer": "ipython3",
   "version": "3.13.1"
  }
 },
 "nbformat": 4,
 "nbformat_minor": 5
}
