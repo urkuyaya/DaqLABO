{
 "cells": [
  {
   "cell_type": "code",
   "execution_count": 4,
   "id": "c0e8ca0c-a43b-48d7-ae8b-540ee1e73f0f",
   "metadata": {},
   "outputs": [
    {
     "name": "stdout",
     "output_type": "stream",
     "text": [
      "Conexión al puerto serial establecida.\n",
      "Datos recibidos: 1023\n",
      "Datos recibidos: 1023\n",
      "Datos recibidos: 1023\n",
      "Datos recibidos: 1022\n",
      "Datos recibidos: 1023\n",
      "Datos recibidos: 1023\n",
      "Datos recibidos: 1023\n",
      "Datos recibidos: 1023\n",
      "Datos recibidos: 1023\n",
      "Datos recibidos: 1023\n",
      "Datos recibidos: 1023\n",
      "Datos recibidos: 1023\n",
      "Datos recibidos: 1023\n",
      "Datos recibidos: 1023\n",
      "Datos recibidos: 1022\n",
      "Interrumpido por el usuario.\n"
     ]
    }
   ],
   "source": [
    "import serial\n",
    "import time\n",
    "\n",
    "# Configura el puerto serial\n",
    "arduino = serial.Serial(port='/dev/ttyUSB0', baudrate=9600, timeout=1)\n",
    "\n",
    "# Espera a que el Arduino esté listo\n",
    "time.sleep(2)\n",
    "print(\"Conexión al puerto serial establecida.\")\n",
    "\n",
    "# Leer y mostrar datos en bucle\n",
    "try:\n",
    "    while True:\n",
    "        # Intenta leer una línea de datos\n",
    "        data = arduino.readline()\n",
    "        \n",
    "        # Verifica si hay datos\n",
    "        if data:\n",
    "            # Decodifica y muestra los datos\n",
    "            print(f\"Datos recibidos: {data.decode('utf-8').strip()}\")\n",
    "        else:\n",
    "            print(\"No se recibieron datos.\")\n",
    "        time.sleep(1)  # Pausa de 1 segundo entre lecturas\n",
    "except KeyboardInterrupt:\n",
    "    print(\"Interrumpido por el usuario.\")\n",
    "    arduino.close()\n"
   ]
  },
  {
   "cell_type": "code",
   "execution_count": null,
   "id": "ad819a85-1484-4268-b429-3c9cf03f8e25",
   "metadata": {},
   "outputs": [],
   "source": []
  }
 ],
 "metadata": {
  "kernelspec": {
   "display_name": "Python 3 (ipykernel)",
   "language": "python",
   "name": "python3"
  },
  "language_info": {
   "codemirror_mode": {
    "name": "ipython",
    "version": 3
   },
   "file_extension": ".py",
   "mimetype": "text/x-python",
   "name": "python",
   "nbconvert_exporter": "python",
   "pygments_lexer": "ipython3",
   "version": "3.13.1"
  }
 },
 "nbformat": 4,
 "nbformat_minor": 5
}
